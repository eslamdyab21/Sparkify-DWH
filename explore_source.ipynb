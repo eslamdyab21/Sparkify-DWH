{
 "cells": [
  {
   "cell_type": "code",
   "execution_count": null,
   "metadata": {},
   "outputs": [],
   "source": [
    "import boto3\n",
    "from botocore import UNSIGNED\n",
    "from botocore.config import Config\n",
    "import json"
   ]
  },
  {
   "cell_type": "markdown",
   "metadata": {},
   "source": [
    "# Connect to the public bucket"
   ]
  },
  {
   "cell_type": "code",
   "execution_count": 38,
   "metadata": {},
   "outputs": [],
   "source": [
    "s3 = boto3.client('s3', config=Config(signature_version=UNSIGNED))"
   ]
  },
  {
   "cell_type": "code",
   "execution_count": 41,
   "metadata": {},
   "outputs": [],
   "source": [
    "bucket_name = 'udacity-dend'"
   ]
  },
  {
   "cell_type": "markdown",
   "metadata": {},
   "source": [
    "# Inspect bucket content"
   ]
  },
  {
   "cell_type": "code",
   "execution_count": 45,
   "metadata": {},
   "outputs": [],
   "source": [
    "response = s3.list_objects_v2(Bucket=bucket_name)"
   ]
  },
  {
   "cell_type": "code",
   "execution_count": 46,
   "metadata": {},
   "outputs": [
    {
     "data": {
      "text/plain": [
       "{'Key': 'data-pipelines/',\n",
       " 'LastModified': datetime.datetime(2019, 2, 8, 23, 40, 22, tzinfo=tzutc()),\n",
       " 'ETag': '\"d41d8cd98f00b204e9800998ecf8427e\"',\n",
       " 'Size': 0,\n",
       " 'StorageClass': 'STANDARD'}"
      ]
     },
     "execution_count": 46,
     "metadata": {},
     "output_type": "execute_result"
    }
   ],
   "source": [
    "response['Contents'][0]"
   ]
  },
  {
   "cell_type": "code",
   "execution_count": 49,
   "metadata": {},
   "outputs": [
    {
     "name": "stdout",
     "output_type": "stream",
     "text": [
      " - log-data/ (Size: 0 bytes)\n",
      " - log-data/2018/11/2018-11-01-events.json (Size: 7151 bytes)\n",
      " - log-data/2018/11/2018-11-02-events.json (Size: 83585 bytes)\n",
      " - log-data/2018/11/2018-11-03-events.json (Size: 54084 bytes)\n",
      " - log-data/2018/11/2018-11-04-events.json (Size: 85671 bytes)\n",
      " - log-data/2018/11/2018-11-05-events.json (Size: 189295 bytes)\n",
      " - log-data/2018/11/2018-11-06-events.json (Size: 85373 bytes)\n",
      " - log-data/2018/11/2018-11-07-events.json (Size: 97519 bytes)\n",
      " - log-data/2018/11/2018-11-08-events.json (Size: 102218 bytes)\n",
      " - log-data/2018/11/2018-11-09-events.json (Size: 134804 bytes)\n",
      " - song-data/ (Size: 0 bytes)\n",
      " - song-data/A/A/A/TRAAAAK128F9318786.json (Size: 244 bytes)\n",
      " - song-data/A/A/A/TRAAAAV128F421A322.json (Size: 303 bytes)\n",
      " - song-data/A/A/A/TRAAABD128F429CF47.json (Size: 268 bytes)\n",
      " - song-data/A/A/A/TRAAACN128F9355673.json (Size: 262 bytes)\n",
      " - song-data/A/A/A/TRAAAEA128F935A30D.json (Size: 308 bytes)\n",
      " - song-data/A/A/A/TRAAAED128E0783FAB.json (Size: 250 bytes)\n",
      " - song-data/A/A/A/TRAAAEM128F93347B9.json (Size: 247 bytes)\n",
      " - song-data/A/A/A/TRAAAEW128F42930C0.json (Size: 267 bytes)\n",
      " - song-data/A/A/A/TRAAAFD128F92F423A.json (Size: 244 bytes)\n"
     ]
    }
   ],
   "source": [
    "i = 0\n",
    "j = 0\n",
    "for obj in response['Contents']:\n",
    "    if 'song-data' in obj['Key'] and i < 10:\n",
    "        print(f\" - {obj['Key']} (Size: {obj['Size']} bytes)\")\n",
    "        i += 1\n",
    "    elif 'log-data' in obj['Key'] and j < 10:\n",
    "        print(f\" - {obj['Key']} (Size: {obj['Size']} bytes)\")\n",
    "        j += 1\n",
    "    elif i == 10 and j == 10:\n",
    "        break"
   ]
  },
  {
   "cell_type": "code",
   "execution_count": 56,
   "metadata": {},
   "outputs": [
    {
     "name": "stdout",
     "output_type": "stream",
     "text": [
      "Toatal number & size of song-data files: 904, 242.235 kb\n",
      "Toatal number & size of log-data files: 30, 3755.598 kb\n"
     ]
    }
   ],
   "source": [
    "song_data_files_size = 0\n",
    "log_data_files_size = 0\n",
    "\n",
    "song_data_files_keys = []\n",
    "log_data_files_keys = []\n",
    "\n",
    "for obj in response['Contents']:\n",
    "    if 'song-data' in obj['Key'] and 'json' in obj['Key']:\n",
    "        song_data_files_size += obj['Size']\n",
    "        song_data_files_keys.append(obj['Key'])\n",
    "        \n",
    "    elif 'log_data' in obj['Key'] and 'json' in obj['Key']:\n",
    "        log_data_files_size += obj['Size']\n",
    "        log_data_files_keys.append(obj['Key'])\n",
    "\n",
    "print(f\"Toatal number & size of song-data files: {len(song_data_files_keys)}, {song_data_files_size/1000} kb\")\n",
    "print(f\"Toatal number & size of log-data files: {len(log_data_files_keys)}, {log_data_files_size/1000} kb\")"
   ]
  },
  {
   "cell_type": "code",
   "execution_count": 57,
   "metadata": {},
   "outputs": [
    {
     "data": {
      "text/plain": [
       "['song-data/A/A/A/TRAAAAK128F9318786.json',\n",
       " 'song-data/A/A/A/TRAAAAV128F421A322.json',\n",
       " 'song-data/A/A/A/TRAAABD128F429CF47.json']"
      ]
     },
     "execution_count": 57,
     "metadata": {},
     "output_type": "execute_result"
    }
   ],
   "source": [
    "song_data_files_keys[0:3]"
   ]
  },
  {
   "cell_type": "code",
   "execution_count": 58,
   "metadata": {},
   "outputs": [
    {
     "data": {
      "text/plain": [
       "['log_data/2018/11/2018-11-01-events.json',\n",
       " 'log_data/2018/11/2018-11-02-events.json',\n",
       " 'log_data/2018/11/2018-11-03-events.json']"
      ]
     },
     "execution_count": 58,
     "metadata": {},
     "output_type": "execute_result"
    }
   ],
   "source": [
    "log_data_files_keys[0:3]"
   ]
  },
  {
   "cell_type": "markdown",
   "metadata": {},
   "source": [
    "## song-data sample"
   ]
  },
  {
   "cell_type": "code",
   "execution_count": 25,
   "metadata": {},
   "outputs": [],
   "source": [
    "def parse_json(data):\n",
    "    json_objects = data.splitlines()\n",
    "    parsed_data = [json.loads(obj) for obj in json_objects]\n",
    "\n",
    "    return parsed_data"
   ]
  },
  {
   "cell_type": "code",
   "execution_count": 31,
   "metadata": {},
   "outputs": [],
   "source": [
    "key = \"song-data/A/A/A/TRAAAAK128F9318786.json\"\n",
    "obj_response = s3.get_object(Bucket=bucket_name, Key=key)"
   ]
  },
  {
   "cell_type": "code",
   "execution_count": 10,
   "metadata": {},
   "outputs": [
    {
     "data": {
      "text/plain": [
       "{'ResponseMetadata': {'RequestId': 'XA39AW8J39KEHVSH',\n",
       "  'HostId': '/MgHo3z3/XUWXfuEmRMmQWDARiS+95Nw4hkYMVw1Zd7jSbidFVgV09j0CiOQ9b3PCAmziQKwr9k=',\n",
       "  'HTTPStatusCode': 200,\n",
       "  'HTTPHeaders': {'x-amz-id-2': '/MgHo3z3/XUWXfuEmRMmQWDARiS+95Nw4hkYMVw1Zd7jSbidFVgV09j0CiOQ9b3PCAmziQKwr9k=',\n",
       "   'x-amz-request-id': 'XA39AW8J39KEHVSH',\n",
       "   'date': 'Fri, 13 Dec 2024 13:17:05 GMT',\n",
       "   'last-modified': 'Fri, 05 Apr 2019 00:10:03 GMT',\n",
       "   'etag': '\"07d807ffda6d57023dd98bb229304fd0\"',\n",
       "   'accept-ranges': 'bytes',\n",
       "   'content-type': 'application/json',\n",
       "   'content-length': '244',\n",
       "   'server': 'AmazonS3'},\n",
       "  'RetryAttempts': 0},\n",
       " 'AcceptRanges': 'bytes',\n",
       " 'LastModified': datetime.datetime(2019, 4, 5, 0, 10, 3, tzinfo=tzutc()),\n",
       " 'ContentLength': 244,\n",
       " 'ETag': '\"07d807ffda6d57023dd98bb229304fd0\"',\n",
       " 'ContentType': 'application/json',\n",
       " 'Metadata': {},\n",
       " 'Body': <botocore.response.StreamingBody at 0x7feca27ee500>}"
      ]
     },
     "execution_count": 10,
     "metadata": {},
     "output_type": "execute_result"
    }
   ],
   "source": [
    "obj_response"
   ]
  },
  {
   "cell_type": "code",
   "execution_count": 32,
   "metadata": {},
   "outputs": [
    {
     "data": {
      "text/plain": [
       "'{\"song_id\": \"SOBLFFE12AF72AA5BA\", \"num_songs\": 1, \"title\": \"Scream\", \"artist_name\": \"Adelitas Way\", \"artist_latitude\": null, \"year\": 2009, \"duration\": 213.9424, \"artist_id\": \"ARJNIUY12298900C91\", \"artist_longitude\": null, \"artist_location\": \"\"}'"
      ]
     },
     "execution_count": 32,
     "metadata": {},
     "output_type": "execute_result"
    }
   ],
   "source": [
    "content = obj_response['Body'].read().decode('utf-8')\n",
    "content"
   ]
  },
  {
   "cell_type": "code",
   "execution_count": 35,
   "metadata": {},
   "outputs": [
    {
     "data": {
      "text/plain": [
       "[{'song_id': 'SOBLFFE12AF72AA5BA',\n",
       "  'num_songs': 1,\n",
       "  'title': 'Scream',\n",
       "  'artist_name': 'Adelitas Way',\n",
       "  'artist_latitude': None,\n",
       "  'year': 2009,\n",
       "  'duration': 213.9424,\n",
       "  'artist_id': 'ARJNIUY12298900C91',\n",
       "  'artist_longitude': None,\n",
       "  'artist_location': ''}]"
      ]
     },
     "execution_count": 35,
     "metadata": {},
     "output_type": "execute_result"
    }
   ],
   "source": [
    "content_parsed = parse_json(content)\n",
    "content_parsed"
   ]
  },
  {
   "cell_type": "markdown",
   "metadata": {},
   "source": [
    "We notice that from the song data files we can extract the following:\n",
    "\n",
    "- for `dimSongs`:\n",
    "    - song_id           -> song_id\n",
    "    - title             -> title\n",
    "    - artist_id         -> artist_id\n",
    "    - duration          -> duration\n",
    "    - year              -> year\n",
    "\n",
    "- for `dimArtists`:\n",
    "    - artist_id         -> artist_id\n",
    "    - artist_name       -> name\n",
    "    - artist_latitude   -> latitude\n",
    "    - artist_longitude  -> longitude\n",
    "    - artist_location   -> location"
   ]
  },
  {
   "cell_type": "markdown",
   "metadata": {},
   "source": [
    "## log-data sample"
   ]
  },
  {
   "cell_type": "code",
   "execution_count": 26,
   "metadata": {},
   "outputs": [],
   "source": [
    "key = \"log_data/2018/11/2018-11-12-events.json\"\n",
    "obj_response = s3.get_object(Bucket=bucket_name, Key=key)"
   ]
  },
  {
   "cell_type": "code",
   "execution_count": 27,
   "metadata": {},
   "outputs": [],
   "source": [
    "content = obj_response['Body'].read().decode('utf-8')"
   ]
  },
  {
   "cell_type": "code",
   "execution_count": 28,
   "metadata": {},
   "outputs": [],
   "source": [
    "content_parsed = parse_json(content)"
   ]
  },
  {
   "cell_type": "code",
   "execution_count": 29,
   "metadata": {},
   "outputs": [
    {
     "data": {
      "text/plain": [
       "{'artist': None,\n",
       " 'auth': 'Logged In',\n",
       " 'firstName': 'Celeste',\n",
       " 'gender': 'F',\n",
       " 'itemInSession': 0,\n",
       " 'lastName': 'Williams',\n",
       " 'length': None,\n",
       " 'level': 'free',\n",
       " 'location': 'Klamath Falls, OR',\n",
       " 'method': 'GET',\n",
       " 'page': 'Home',\n",
       " 'registration': 1541077528796.0,\n",
       " 'sessionId': 438,\n",
       " 'song': None,\n",
       " 'status': 200,\n",
       " 'ts': 1541990217796,\n",
       " 'userAgent': '\"Mozilla/5.0 (Windows NT 6.1; WOW64) AppleWebKit/537.36 (KHTML, like Gecko) Chrome/37.0.2062.103 Safari/537.36\"',\n",
       " 'userId': '53'}"
      ]
     },
     "execution_count": 29,
     "metadata": {},
     "output_type": "execute_result"
    }
   ],
   "source": [
    "content_parsed[0]"
   ]
  },
  {
   "cell_type": "code",
   "execution_count": 30,
   "metadata": {},
   "outputs": [
    {
     "data": {
      "text/plain": [
       "{'artist': 'Charttraxx Karaoke',\n",
       " 'auth': 'Logged In',\n",
       " 'firstName': 'Celeste',\n",
       " 'gender': 'F',\n",
       " 'itemInSession': 3,\n",
       " 'lastName': 'Williams',\n",
       " 'length': 225.17506,\n",
       " 'level': 'free',\n",
       " 'location': 'Klamath Falls, OR',\n",
       " 'method': 'PUT',\n",
       " 'page': 'NextSong',\n",
       " 'registration': 1541077528796.0,\n",
       " 'sessionId': 438,\n",
       " 'song': 'Fireflies',\n",
       " 'status': 200,\n",
       " 'ts': 1541990752796,\n",
       " 'userAgent': '\"Mozilla/5.0 (Windows NT 6.1; WOW64) AppleWebKit/537.36 (KHTML, like Gecko) Chrome/37.0.2062.103 Safari/537.36\"',\n",
       " 'userId': '53'}"
      ]
     },
     "execution_count": 30,
     "metadata": {},
     "output_type": "execute_result"
    }
   ],
   "source": [
    "content_parsed[5]"
   ]
  },
  {
   "cell_type": "markdown",
   "metadata": {},
   "source": [
    "We notice that from the log data files we can extract the following:\n",
    "\n",
    "- for `dimUsers`:\n",
    "    - userId            -> user_id\n",
    "    - firstName         -> first_name\n",
    "    - lastName          -> last_name\n",
    "    - gender            -> gender \n",
    "    - level             -> level\n",
    "\n",
    "- for `dimTime`:\n",
    "    - ts                -> start_time\n",
    "\n",
    "- for `factSongPlays`:\n",
    "    - userId            -> user_key\n",
    "    - sessionId         -> session_id\n",
    "    - location          -> location\n",
    "    - userAgent         -> user_agent\n",
    "    - ts                -> time_stamp\n",
    "\n",
    "    - from relation with song files on **song and song_title**\n",
    "        - song_key\n",
    "        - artist_key"
   ]
  },
  {
   "cell_type": "code",
   "execution_count": null,
   "metadata": {},
   "outputs": [],
   "source": []
  }
 ],
 "metadata": {
  "kernelspec": {
   "display_name": "Python 3",
   "language": "python",
   "name": "python3"
  },
  "language_info": {
   "codemirror_mode": {
    "name": "ipython",
    "version": 3
   },
   "file_extension": ".py",
   "mimetype": "text/x-python",
   "name": "python",
   "nbconvert_exporter": "python",
   "pygments_lexer": "ipython3",
   "version": "3.11.2"
  }
 },
 "nbformat": 4,
 "nbformat_minor": 2
}
